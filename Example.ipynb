{
 "cells": [
  {
   "cell_type": "code",
   "execution_count": 1,
   "id": "7804df2c",
   "metadata": {},
   "outputs": [],
   "source": [
    "from utils import load_dataset, preprocess, extract_feature_target_columns\n",
    "from models.lgb_model import LGBModel\n",
    "from sklearn.model_selection import train_test_split"
   ]
  },
  {
   "cell_type": "code",
   "execution_count": 2,
   "id": "bdb8defe",
   "metadata": {},
   "outputs": [
    {
     "data": {
      "text/html": [
       "<div>\n",
       "<style scoped>\n",
       "    .dataframe tbody tr th:only-of-type {\n",
       "        vertical-align: middle;\n",
       "    }\n",
       "\n",
       "    .dataframe tbody tr th {\n",
       "        vertical-align: top;\n",
       "    }\n",
       "\n",
       "    .dataframe thead th {\n",
       "        text-align: right;\n",
       "    }\n",
       "</style>\n",
       "<table border=\"1\" class=\"dataframe\">\n",
       "  <thead>\n",
       "    <tr style=\"text-align: right;\">\n",
       "      <th></th>\n",
       "      <th>unix</th>\n",
       "      <th>date</th>\n",
       "      <th>symbol</th>\n",
       "      <th>open</th>\n",
       "      <th>high</th>\n",
       "      <th>low</th>\n",
       "      <th>close</th>\n",
       "      <th>Volume USD</th>\n",
       "      <th>Volume BTC</th>\n",
       "    </tr>\n",
       "  </thead>\n",
       "  <tbody>\n",
       "    <tr>\n",
       "      <th>0</th>\n",
       "      <td>1.658710e+12</td>\n",
       "      <td>25/07/2022 00:00</td>\n",
       "      <td>BTC/USD</td>\n",
       "      <td>22578.00000</td>\n",
       "      <td>22663.27986</td>\n",
       "      <td>22268.00000</td>\n",
       "      <td>22294.00000</td>\n",
       "      <td>2.668725e+06</td>\n",
       "      <td>119.705976</td>\n",
       "    </tr>\n",
       "    <tr>\n",
       "      <th>1</th>\n",
       "      <td>1.658700e+12</td>\n",
       "      <td>24/07/2022 23:00</td>\n",
       "      <td>BTC/USD</td>\n",
       "      <td>22655.00000</td>\n",
       "      <td>22751.00000</td>\n",
       "      <td>22518.00000</td>\n",
       "      <td>22580.43245</td>\n",
       "      <td>1.499313e+06</td>\n",
       "      <td>66.398751</td>\n",
       "    </tr>\n",
       "    <tr>\n",
       "      <th>2</th>\n",
       "      <td>1.658700e+12</td>\n",
       "      <td>24/07/2022 22:00</td>\n",
       "      <td>BTC/USD</td>\n",
       "      <td>22814.00000</td>\n",
       "      <td>23006.00000</td>\n",
       "      <td>22552.31166</td>\n",
       "      <td>22655.00000</td>\n",
       "      <td>4.757591e+06</td>\n",
       "      <td>210.001830</td>\n",
       "    </tr>\n",
       "    <tr>\n",
       "      <th>3</th>\n",
       "      <td>1.658700e+12</td>\n",
       "      <td>24/07/2022 21:00</td>\n",
       "      <td>BTC/USD</td>\n",
       "      <td>22720.66998</td>\n",
       "      <td>22827.00000</td>\n",
       "      <td>22677.54867</td>\n",
       "      <td>22813.00000</td>\n",
       "      <td>1.378049e+06</td>\n",
       "      <td>60.406305</td>\n",
       "    </tr>\n",
       "    <tr>\n",
       "      <th>4</th>\n",
       "      <td>1.658690e+12</td>\n",
       "      <td>24/07/2022 20:00</td>\n",
       "      <td>BTC/USD</td>\n",
       "      <td>22714.01790</td>\n",
       "      <td>22799.00000</td>\n",
       "      <td>22677.00000</td>\n",
       "      <td>22722.00000</td>\n",
       "      <td>1.079021e+06</td>\n",
       "      <td>47.487931</td>\n",
       "    </tr>\n",
       "    <tr>\n",
       "      <th>...</th>\n",
       "      <td>...</td>\n",
       "      <td>...</td>\n",
       "      <td>...</td>\n",
       "      <td>...</td>\n",
       "      <td>...</td>\n",
       "      <td>...</td>\n",
       "      <td>...</td>\n",
       "      <td>...</td>\n",
       "      <td>...</td>\n",
       "    </tr>\n",
       "    <tr>\n",
       "      <th>35774</th>\n",
       "      <td>1.526378e+09</td>\n",
       "      <td>15/05/2018 10:00</td>\n",
       "      <td>BTC/USD</td>\n",
       "      <td>8708.10000</td>\n",
       "      <td>8855.70000</td>\n",
       "      <td>8695.80000</td>\n",
       "      <td>8784.40000</td>\n",
       "      <td>1.730972e+07</td>\n",
       "      <td>1969.080000</td>\n",
       "    </tr>\n",
       "    <tr>\n",
       "      <th>35775</th>\n",
       "      <td>1.526375e+09</td>\n",
       "      <td>15/05/2018 09:00</td>\n",
       "      <td>BTC/USD</td>\n",
       "      <td>8723.70000</td>\n",
       "      <td>8737.80000</td>\n",
       "      <td>8701.20000</td>\n",
       "      <td>8708.10000</td>\n",
       "      <td>2.054868e+06</td>\n",
       "      <td>235.550000</td>\n",
       "    </tr>\n",
       "    <tr>\n",
       "      <th>35776</th>\n",
       "      <td>1.526371e+09</td>\n",
       "      <td>15/05/2018 08:00</td>\n",
       "      <td>BTC/USD</td>\n",
       "      <td>8743.00000</td>\n",
       "      <td>8743.10000</td>\n",
       "      <td>8653.20000</td>\n",
       "      <td>8723.70000</td>\n",
       "      <td>8.891773e+06</td>\n",
       "      <td>1023.310000</td>\n",
       "    </tr>\n",
       "    <tr>\n",
       "      <th>35777</th>\n",
       "      <td>1.526368e+09</td>\n",
       "      <td>15/05/2018 07:00</td>\n",
       "      <td>BTC/USD</td>\n",
       "      <td>8739.00000</td>\n",
       "      <td>8754.80000</td>\n",
       "      <td>8719.30000</td>\n",
       "      <td>8743.00000</td>\n",
       "      <td>2.288904e+06</td>\n",
       "      <td>261.970000</td>\n",
       "    </tr>\n",
       "    <tr>\n",
       "      <th>35778</th>\n",
       "      <td>1.526364e+09</td>\n",
       "      <td>15/05/2018 06:00</td>\n",
       "      <td>BTC/USD</td>\n",
       "      <td>8723.80000</td>\n",
       "      <td>8793.00000</td>\n",
       "      <td>8714.90000</td>\n",
       "      <td>8739.00000</td>\n",
       "      <td>8.988054e+06</td>\n",
       "      <td>1026.350000</td>\n",
       "    </tr>\n",
       "  </tbody>\n",
       "</table>\n",
       "<p>35779 rows × 9 columns</p>\n",
       "</div>"
      ],
      "text/plain": [
       "               unix              date   symbol         open         high  \\\n",
       "0      1.658710e+12  25/07/2022 00:00  BTC/USD  22578.00000  22663.27986   \n",
       "1      1.658700e+12  24/07/2022 23:00  BTC/USD  22655.00000  22751.00000   \n",
       "2      1.658700e+12  24/07/2022 22:00  BTC/USD  22814.00000  23006.00000   \n",
       "3      1.658700e+12  24/07/2022 21:00  BTC/USD  22720.66998  22827.00000   \n",
       "4      1.658690e+12  24/07/2022 20:00  BTC/USD  22714.01790  22799.00000   \n",
       "...             ...               ...      ...          ...          ...   \n",
       "35774  1.526378e+09  15/05/2018 10:00  BTC/USD   8708.10000   8855.70000   \n",
       "35775  1.526375e+09  15/05/2018 09:00  BTC/USD   8723.70000   8737.80000   \n",
       "35776  1.526371e+09  15/05/2018 08:00  BTC/USD   8743.00000   8743.10000   \n",
       "35777  1.526368e+09  15/05/2018 07:00  BTC/USD   8739.00000   8754.80000   \n",
       "35778  1.526364e+09  15/05/2018 06:00  BTC/USD   8723.80000   8793.00000   \n",
       "\n",
       "               low        close    Volume USD   Volume BTC  \n",
       "0      22268.00000  22294.00000  2.668725e+06   119.705976  \n",
       "1      22518.00000  22580.43245  1.499313e+06    66.398751  \n",
       "2      22552.31166  22655.00000  4.757591e+06   210.001830  \n",
       "3      22677.54867  22813.00000  1.378049e+06    60.406305  \n",
       "4      22677.00000  22722.00000  1.079021e+06    47.487931  \n",
       "...            ...          ...           ...          ...  \n",
       "35774   8695.80000   8784.40000  1.730972e+07  1969.080000  \n",
       "35775   8701.20000   8708.10000  2.054868e+06   235.550000  \n",
       "35776   8653.20000   8723.70000  8.891773e+06  1023.310000  \n",
       "35777   8719.30000   8743.00000  2.288904e+06   261.970000  \n",
       "35778   8714.90000   8739.00000  8.988054e+06  1026.350000  \n",
       "\n",
       "[35779 rows x 9 columns]"
      ]
     },
     "execution_count": 2,
     "metadata": {},
     "output_type": "execute_result"
    }
   ],
   "source": [
    "df = load_dataset(\"datasets/Bitfinex_BTCUSD_1h.csv\")\n",
    "df"
   ]
  },
  {
   "cell_type": "code",
   "execution_count": 3,
   "id": "520f1505",
   "metadata": {},
   "outputs": [
    {
     "name": "stderr",
     "output_type": "stream",
     "text": [
      "100%|█████████████████████████████████████████████████████████████████████████████████████████████████████████████████████████████████████████████████████████████████████████████| 2/2 [00:00<00:00, 792.42it/s]\n"
     ]
    },
    {
     "data": {
      "text/html": [
       "<div>\n",
       "<style scoped>\n",
       "    .dataframe tbody tr th:only-of-type {\n",
       "        vertical-align: middle;\n",
       "    }\n",
       "\n",
       "    .dataframe tbody tr th {\n",
       "        vertical-align: top;\n",
       "    }\n",
       "\n",
       "    .dataframe thead th {\n",
       "        text-align: right;\n",
       "    }\n",
       "</style>\n",
       "<table border=\"1\" class=\"dataframe\">\n",
       "  <thead>\n",
       "    <tr style=\"text-align: right;\">\n",
       "      <th></th>\n",
       "      <th>KMID</th>\n",
       "      <th>SMA_window_10</th>\n",
       "    </tr>\n",
       "  </thead>\n",
       "  <tbody>\n",
       "    <tr>\n",
       "      <th>9</th>\n",
       "      <td>0.003667</td>\n",
       "      <td>0.008034</td>\n",
       "    </tr>\n",
       "    <tr>\n",
       "      <th>10</th>\n",
       "      <td>0.009959</td>\n",
       "      <td>0.002209</td>\n",
       "    </tr>\n",
       "    <tr>\n",
       "      <th>11</th>\n",
       "      <td>0.003403</td>\n",
       "      <td>-0.007751</td>\n",
       "    </tr>\n",
       "    <tr>\n",
       "      <th>12</th>\n",
       "      <td>-0.007576</td>\n",
       "      <td>-0.010450</td>\n",
       "    </tr>\n",
       "    <tr>\n",
       "      <th>13</th>\n",
       "      <td>0.006841</td>\n",
       "      <td>-0.001699</td>\n",
       "    </tr>\n",
       "    <tr>\n",
       "      <th>...</th>\n",
       "      <td>...</td>\n",
       "      <td>...</td>\n",
       "    </tr>\n",
       "    <tr>\n",
       "      <th>35769</th>\n",
       "      <td>0.001033</td>\n",
       "      <td>0.001870</td>\n",
       "    </tr>\n",
       "    <tr>\n",
       "      <th>35770</th>\n",
       "      <td>-0.027091</td>\n",
       "      <td>0.000159</td>\n",
       "    </tr>\n",
       "    <tr>\n",
       "      <th>35771</th>\n",
       "      <td>-0.002219</td>\n",
       "      <td>0.023384</td>\n",
       "    </tr>\n",
       "    <tr>\n",
       "      <th>35772</th>\n",
       "      <td>0.000776</td>\n",
       "      <td>0.022099</td>\n",
       "    </tr>\n",
       "    <tr>\n",
       "      <th>35773</th>\n",
       "      <td>-0.003335</td>\n",
       "      <td>0.018150</td>\n",
       "    </tr>\n",
       "  </tbody>\n",
       "</table>\n",
       "<p>35765 rows × 2 columns</p>\n",
       "</div>"
      ],
      "text/plain": [
       "           KMID  SMA_window_10\n",
       "9      0.003667       0.008034\n",
       "10     0.009959       0.002209\n",
       "11     0.003403      -0.007751\n",
       "12    -0.007576      -0.010450\n",
       "13     0.006841      -0.001699\n",
       "...         ...            ...\n",
       "35769  0.001033       0.001870\n",
       "35770 -0.027091       0.000159\n",
       "35771 -0.002219       0.023384\n",
       "35772  0.000776       0.022099\n",
       "35773 -0.003335       0.018150\n",
       "\n",
       "[35765 rows x 2 columns]"
      ]
     },
     "execution_count": 3,
     "metadata": {},
     "output_type": "execute_result"
    }
   ],
   "source": [
    "df = preprocess(df)\n",
    "X, y = extract_feature_target_columns(df)\n",
    "X"
   ]
  },
  {
   "cell_type": "code",
   "execution_count": 4,
   "id": "a0559475",
   "metadata": {},
   "outputs": [
    {
     "name": "stdout",
     "output_type": "stream",
     "text": [
      "[1]\ttraining's l2: 0.000311092\tvalid_1's l2: 0.000306446\n",
      "[2]\ttraining's l2: 0.000307594\tvalid_1's l2: 0.000303151\n",
      "[3]\ttraining's l2: 0.000304347\tvalid_1's l2: 0.000299986\n",
      "[4]\ttraining's l2: 0.000301422\tvalid_1's l2: 0.000297172\n",
      "[5]\ttraining's l2: 0.000298701\tvalid_1's l2: 0.000294537\n",
      "[6]\ttraining's l2: 0.000296288\tvalid_1's l2: 0.000292276\n",
      "[7]\ttraining's l2: 0.000293985\tvalid_1's l2: 0.000290111\n",
      "[8]\ttraining's l2: 0.000291907\tvalid_1's l2: 0.00028814\n",
      "[9]\ttraining's l2: 0.000289888\tvalid_1's l2: 0.000286115\n",
      "[10]\ttraining's l2: 0.000288096\tvalid_1's l2: 0.000284103\n",
      "[11]\ttraining's l2: 0.000286376\tvalid_1's l2: 0.000282532\n",
      "[12]\ttraining's l2: 0.000284733\tvalid_1's l2: 0.000280864\n",
      "[13]\ttraining's l2: 0.000283244\tvalid_1's l2: 0.000279481\n",
      "[14]\ttraining's l2: 0.000281801\tvalid_1's l2: 0.000277905\n",
      "[15]\ttraining's l2: 0.000280491\tvalid_1's l2: 0.000276376\n",
      "[16]\ttraining's l2: 0.000279226\tvalid_1's l2: 0.000275141\n",
      "[17]\ttraining's l2: 0.000278052\tvalid_1's l2: 0.000273836\n",
      "[18]\ttraining's l2: 0.000276946\tvalid_1's l2: 0.000272838\n",
      "[19]\ttraining's l2: 0.000275869\tvalid_1's l2: 0.000271683\n",
      "[20]\ttraining's l2: 0.000274897\tvalid_1's l2: 0.000270565\n",
      "[21]\ttraining's l2: 0.000273968\tvalid_1's l2: 0.000269762\n",
      "[22]\ttraining's l2: 0.00027313\tvalid_1's l2: 0.000269026\n",
      "[23]\ttraining's l2: 0.000272261\tvalid_1's l2: 0.000268105\n",
      "[24]\ttraining's l2: 0.000271482\tvalid_1's l2: 0.000267421\n",
      "[25]\ttraining's l2: 0.00027075\tvalid_1's l2: 0.00026656\n",
      "[26]\ttraining's l2: 0.000270038\tvalid_1's l2: 0.000265764\n",
      "[27]\ttraining's l2: 0.00026939\tvalid_1's l2: 0.000265234\n",
      "[28]\ttraining's l2: 0.000268752\tvalid_1's l2: 0.000264568\n",
      "[29]\ttraining's l2: 0.000268185\tvalid_1's l2: 0.00026389\n",
      "[30]\ttraining's l2: 0.000267621\tvalid_1's l2: 0.000263238\n",
      "[31]\ttraining's l2: 0.000267085\tvalid_1's l2: 0.000262751\n",
      "[32]\ttraining's l2: 0.000266592\tvalid_1's l2: 0.000262167\n",
      "[33]\ttraining's l2: 0.000266123\tvalid_1's l2: 0.000261779\n",
      "[34]\ttraining's l2: 0.000265671\tvalid_1's l2: 0.000261385\n",
      "[35]\ttraining's l2: 0.000265247\tvalid_1's l2: 0.000260896\n",
      "[36]\ttraining's l2: 0.000264864\tvalid_1's l2: 0.000260555\n",
      "[37]\ttraining's l2: 0.000264478\tvalid_1's l2: 0.000260118\n",
      "[38]\ttraining's l2: 0.000264116\tvalid_1's l2: 0.000259845\n",
      "[39]\ttraining's l2: 0.000263779\tvalid_1's l2: 0.000259436\n",
      "[40]\ttraining's l2: 0.000263461\tvalid_1's l2: 0.000259157\n",
      "[41]\ttraining's l2: 0.000263145\tvalid_1's l2: 0.000258816\n",
      "[42]\ttraining's l2: 0.000262862\tvalid_1's l2: 0.000258467\n",
      "[43]\ttraining's l2: 0.000262583\tvalid_1's l2: 0.000258152\n",
      "[44]\ttraining's l2: 0.000262329\tvalid_1's l2: 0.000257934\n",
      "[45]\ttraining's l2: 0.000262082\tvalid_1's l2: 0.000257659\n",
      "[46]\ttraining's l2: 0.000261836\tvalid_1's l2: 0.000257449\n",
      "[47]\ttraining's l2: 0.00026161\tvalid_1's l2: 0.000257178\n",
      "[48]\ttraining's l2: 0.000261393\tvalid_1's l2: 0.000256994\n",
      "[49]\ttraining's l2: 0.000261194\tvalid_1's l2: 0.000256745\n",
      "[50]\ttraining's l2: 0.000260994\tvalid_1's l2: 0.000256611\n",
      "[51]\ttraining's l2: 0.000260813\tvalid_1's l2: 0.000256427\n",
      "[52]\ttraining's l2: 0.00026064\tvalid_1's l2: 0.000256283\n",
      "[53]\ttraining's l2: 0.000260436\tvalid_1's l2: 0.000256117\n",
      "[54]\ttraining's l2: 0.000260276\tvalid_1's l2: 0.000255911\n",
      "[55]\ttraining's l2: 0.000260129\tvalid_1's l2: 0.000255794\n",
      "[56]\ttraining's l2: 0.000259974\tvalid_1's l2: 0.000255681\n",
      "[57]\ttraining's l2: 0.000259835\tvalid_1's l2: 0.000255525\n",
      "[58]\ttraining's l2: 0.000259701\tvalid_1's l2: 0.000255428\n",
      "[59]\ttraining's l2: 0.000259577\tvalid_1's l2: 0.000255329\n",
      "[60]\ttraining's l2: 0.000259459\tvalid_1's l2: 0.000255178\n",
      "[61]\ttraining's l2: 0.000259315\tvalid_1's l2: 0.000255078\n",
      "[62]\ttraining's l2: 0.000259205\tvalid_1's l2: 0.000254968\n",
      "[63]\ttraining's l2: 0.000259101\tvalid_1's l2: 0.000254883\n",
      "[64]\ttraining's l2: 0.000259004\tvalid_1's l2: 0.00025475\n",
      "[65]\ttraining's l2: 0.000258912\tvalid_1's l2: 0.00025463\n",
      "[66]\ttraining's l2: 0.00025882\tvalid_1's l2: 0.000254558\n",
      "[67]\ttraining's l2: 0.00025874\tvalid_1's l2: 0.000254443\n",
      "[68]\ttraining's l2: 0.000258658\tvalid_1's l2: 0.000254405\n",
      "[69]\ttraining's l2: 0.000258585\tvalid_1's l2: 0.000254337\n",
      "[70]\ttraining's l2: 0.000258511\tvalid_1's l2: 0.000254269\n",
      "[71]\ttraining's l2: 0.000258445\tvalid_1's l2: 0.000254175\n",
      "[72]\ttraining's l2: 0.000258379\tvalid_1's l2: 0.000254125\n",
      "[73]\ttraining's l2: 0.000258317\tvalid_1's l2: 0.000254045\n",
      "[74]\ttraining's l2: 0.000258261\tvalid_1's l2: 0.000254006\n",
      "[75]\ttraining's l2: 0.000258191\tvalid_1's l2: 0.000253963\n",
      "[76]\ttraining's l2: 0.000258138\tvalid_1's l2: 0.000253889\n",
      "[77]\ttraining's l2: 0.000258083\tvalid_1's l2: 0.000253866\n",
      "[78]\ttraining's l2: 0.000257984\tvalid_1's l2: 0.000253791\n",
      "[79]\ttraining's l2: 0.000257932\tvalid_1's l2: 0.000253743\n",
      "[80]\ttraining's l2: 0.000257806\tvalid_1's l2: 0.000253636\n",
      "[81]\ttraining's l2: 0.000257761\tvalid_1's l2: 0.000253611\n",
      "[82]\ttraining's l2: 0.000257713\tvalid_1's l2: 0.000253592\n",
      "[83]\ttraining's l2: 0.00025766\tvalid_1's l2: 0.00025356\n",
      "[84]\ttraining's l2: 0.000257548\tvalid_1's l2: 0.000253436\n",
      "[85]\ttraining's l2: 0.000257497\tvalid_1's l2: 0.00025344\n",
      "[86]\ttraining's l2: 0.000257427\tvalid_1's l2: 0.000253404\n",
      "[87]\ttraining's l2: 0.000257389\tvalid_1's l2: 0.000253394\n",
      "[88]\ttraining's l2: 0.000257348\tvalid_1's l2: 0.00025338\n",
      "[89]\ttraining's l2: 0.000257313\tvalid_1's l2: 0.000253321\n",
      "[90]\ttraining's l2: 0.000257266\tvalid_1's l2: 0.000253269\n",
      "[91]\ttraining's l2: 0.000257226\tvalid_1's l2: 0.000253268\n",
      "[92]\ttraining's l2: 0.000257152\tvalid_1's l2: 0.000253204\n",
      "[93]\ttraining's l2: 0.00025711\tvalid_1's l2: 0.000253159\n",
      "[94]\ttraining's l2: 0.000257073\tvalid_1's l2: 0.000253161\n",
      "[95]\ttraining's l2: 0.000257032\tvalid_1's l2: 0.000253137\n",
      "[96]\ttraining's l2: 0.000257002\tvalid_1's l2: 0.000253131\n",
      "[97]\ttraining's l2: 0.000256965\tvalid_1's l2: 0.000253092\n",
      "[98]\ttraining's l2: 0.00025694\tvalid_1's l2: 0.000253078\n",
      "[99]\ttraining's l2: 0.00025691\tvalid_1's l2: 0.00025308\n",
      "[100]\ttraining's l2: 0.000256876\tvalid_1's l2: 0.000253042\n",
      "[101]\ttraining's l2: 0.000256831\tvalid_1's l2: 0.000253015\n",
      "[102]\ttraining's l2: 0.000256794\tvalid_1's l2: 0.000253023\n",
      "[103]\ttraining's l2: 0.000256762\tvalid_1's l2: 0.000252998\n",
      "[104]\ttraining's l2: 0.000256739\tvalid_1's l2: 0.000252983\n",
      "[105]\ttraining's l2: 0.000256651\tvalid_1's l2: 0.000252914\n",
      "[106]\ttraining's l2: 0.000256622\tvalid_1's l2: 0.000252907\n",
      "[107]\ttraining's l2: 0.000256598\tvalid_1's l2: 0.000252895\n",
      "[108]\ttraining's l2: 0.000256565\tvalid_1's l2: 0.000252863\n",
      "[109]\ttraining's l2: 0.000256478\tvalid_1's l2: 0.000252775\n",
      "[110]\ttraining's l2: 0.000256452\tvalid_1's l2: 0.000252783\n",
      "[111]\ttraining's l2: 0.000256431\tvalid_1's l2: 0.000252794\n",
      "[112]\ttraining's l2: 0.000256403\tvalid_1's l2: 0.000252773\n",
      "[113]\ttraining's l2: 0.000256366\tvalid_1's l2: 0.000252758\n",
      "[114]\ttraining's l2: 0.000256344\tvalid_1's l2: 0.000252763\n",
      "[115]\ttraining's l2: 0.00025632\tvalid_1's l2: 0.000252758\n",
      "[116]\ttraining's l2: 0.000256219\tvalid_1's l2: 0.000252695\n",
      "[117]\ttraining's l2: 0.000256194\tvalid_1's l2: 0.000252677\n",
      "[118]\ttraining's l2: 0.000256177\tvalid_1's l2: 0.000252688\n",
      "[119]\ttraining's l2: 0.00025615\tvalid_1's l2: 0.00025269\n",
      "[120]\ttraining's l2: 0.000256127\tvalid_1's l2: 0.000252672\n",
      "[121]\ttraining's l2: 0.000256066\tvalid_1's l2: 0.00025264\n",
      "[122]\ttraining's l2: 0.000256049\tvalid_1's l2: 0.00025264\n",
      "[123]\ttraining's l2: 0.000256028\tvalid_1's l2: 0.000252638\n",
      "[124]\ttraining's l2: 0.000255991\tvalid_1's l2: 0.000252603\n",
      "[125]\ttraining's l2: 0.000255969\tvalid_1's l2: 0.000252588\n",
      "[126]\ttraining's l2: 0.000255954\tvalid_1's l2: 0.000252603\n",
      "[127]\ttraining's l2: 0.00025593\tvalid_1's l2: 0.000252639\n",
      "[128]\ttraining's l2: 0.000255914\tvalid_1's l2: 0.000252647\n",
      "[129]\ttraining's l2: 0.000255894\tvalid_1's l2: 0.000252626\n",
      "[130]\ttraining's l2: 0.000255874\tvalid_1's l2: 0.000252624\n",
      "[131]\ttraining's l2: 0.000255828\tvalid_1's l2: 0.000252586\n",
      "[132]\ttraining's l2: 0.000255802\tvalid_1's l2: 0.000252559\n",
      "[133]\ttraining's l2: 0.00025578\tvalid_1's l2: 0.000252595\n",
      "[134]\ttraining's l2: 0.000255761\tvalid_1's l2: 0.000252584\n",
      "[135]\ttraining's l2: 0.000255744\tvalid_1's l2: 0.000252583\n",
      "[136]\ttraining's l2: 0.000255719\tvalid_1's l2: 0.000252567\n",
      "[137]\ttraining's l2: 0.000255707\tvalid_1's l2: 0.000252593\n",
      "[138]\ttraining's l2: 0.000255687\tvalid_1's l2: 0.000252629\n",
      "[139]\ttraining's l2: 0.000255672\tvalid_1's l2: 0.000252619\n",
      "[140]\ttraining's l2: 0.000255655\tvalid_1's l2: 0.000252604\n",
      "[141]\ttraining's l2: 0.000255579\tvalid_1's l2: 0.000252566\n",
      "[142]\ttraining's l2: 0.000255556\tvalid_1's l2: 0.000252565\n",
      "[143]\ttraining's l2: 0.000255538\tvalid_1's l2: 0.0002526\n",
      "[144]\ttraining's l2: 0.000255524\tvalid_1's l2: 0.000252596\n",
      "[145]\ttraining's l2: 0.000255509\tvalid_1's l2: 0.000252578\n",
      "[146]\ttraining's l2: 0.000255494\tvalid_1's l2: 0.000252578\n",
      "[147]\ttraining's l2: 0.000255445\tvalid_1's l2: 0.00025253\n",
      "[148]\ttraining's l2: 0.000255433\tvalid_1's l2: 0.000252516\n",
      "[149]\ttraining's l2: 0.000255417\tvalid_1's l2: 0.00025255\n",
      "[150]\ttraining's l2: 0.000255406\tvalid_1's l2: 0.000252563\n",
      "[151]\ttraining's l2: 0.000255392\tvalid_1's l2: 0.000252555\n",
      "[152]\ttraining's l2: 0.000255378\tvalid_1's l2: 0.000252515\n",
      "[153]\ttraining's l2: 0.000255344\tvalid_1's l2: 0.000252484\n",
      "[154]\ttraining's l2: 0.000255323\tvalid_1's l2: 0.000252409\n",
      "[155]\ttraining's l2: 0.000255307\tvalid_1's l2: 0.00025239\n",
      "[156]\ttraining's l2: 0.000255292\tvalid_1's l2: 0.000252423\n",
      "[157]\ttraining's l2: 0.000255281\tvalid_1's l2: 0.000252439\n",
      "[158]\ttraining's l2: 0.000255268\tvalid_1's l2: 0.00025244\n",
      "[159]\ttraining's l2: 0.000255253\tvalid_1's l2: 0.000252423\n",
      "[160]\ttraining's l2: 0.00025524\tvalid_1's l2: 0.000252455\n",
      "[161]\ttraining's l2: 0.000255228\tvalid_1's l2: 0.000252464\n",
      "[162]\ttraining's l2: 0.000255212\tvalid_1's l2: 0.000252449\n",
      "[163]\ttraining's l2: 0.0002552\tvalid_1's l2: 0.000252436\n",
      "[164]\ttraining's l2: 0.000255181\tvalid_1's l2: 0.000252415\n",
      "[165]\ttraining's l2: 0.00025517\tvalid_1's l2: 0.000252416\n",
      "[166]\ttraining's l2: 0.000255158\tvalid_1's l2: 0.000252447\n",
      "[167]\ttraining's l2: 0.000255145\tvalid_1's l2: 0.000252447\n",
      "[168]\ttraining's l2: 0.000255133\tvalid_1's l2: 0.000252435\n",
      "[169]\ttraining's l2: 0.00025512\tvalid_1's l2: 0.00025242\n",
      "[170]\ttraining's l2: 0.000255109\tvalid_1's l2: 0.00025245\n",
      "[171]\ttraining's l2: 0.000255072\tvalid_1's l2: 0.000252414\n",
      "[172]\ttraining's l2: 0.000255018\tvalid_1's l2: 0.000252409\n",
      "[173]\ttraining's l2: 0.000255007\tvalid_1's l2: 0.000252372\n",
      "[174]\ttraining's l2: 0.000254958\tvalid_1's l2: 0.000252372\n",
      "[175]\ttraining's l2: 0.000254948\tvalid_1's l2: 0.00025236\n",
      "[176]\ttraining's l2: 0.000254938\tvalid_1's l2: 0.000252352\n",
      "[177]\ttraining's l2: 0.00025493\tvalid_1's l2: 0.000252357\n",
      "[178]\ttraining's l2: 0.00025492\tvalid_1's l2: 0.000252387\n",
      "[179]\ttraining's l2: 0.000254902\tvalid_1's l2: 0.000252385\n",
      "[180]\ttraining's l2: 0.000254859\tvalid_1's l2: 0.000252388\n",
      "[181]\ttraining's l2: 0.000254849\tvalid_1's l2: 0.000252378\n",
      "[182]\ttraining's l2: 0.000254837\tvalid_1's l2: 0.000252366\n",
      "[183]\ttraining's l2: 0.000254828\tvalid_1's l2: 0.000252395\n",
      "[184]\ttraining's l2: 0.00025482\tvalid_1's l2: 0.00025241\n",
      "[185]\ttraining's l2: 0.000254811\tvalid_1's l2: 0.000252405\n",
      "[186]\ttraining's l2: 0.000254802\tvalid_1's l2: 0.00025237\n",
      "[187]\ttraining's l2: 0.000254793\tvalid_1's l2: 0.00025236\n",
      "[188]\ttraining's l2: 0.000254754\tvalid_1's l2: 0.000252366\n",
      "[189]\ttraining's l2: 0.000254746\tvalid_1's l2: 0.000252394\n",
      "[190]\ttraining's l2: 0.000254739\tvalid_1's l2: 0.000252385\n",
      "[191]\ttraining's l2: 0.000254729\tvalid_1's l2: 0.000252371\n",
      "[192]\ttraining's l2: 0.000254721\tvalid_1's l2: 0.000252367\n",
      "[193]\ttraining's l2: 0.000254687\tvalid_1's l2: 0.000252375\n",
      "[194]\ttraining's l2: 0.000254679\tvalid_1's l2: 0.000252402\n",
      "[195]\ttraining's l2: 0.00025467\tvalid_1's l2: 0.000252406\n",
      "[196]\ttraining's l2: 0.000254663\tvalid_1's l2: 0.000252414\n",
      "[197]\ttraining's l2: 0.000254657\tvalid_1's l2: 0.00025241\n",
      "[198]\ttraining's l2: 0.000254627\tvalid_1's l2: 0.000252421\n",
      "[199]\ttraining's l2: 0.00025462\tvalid_1's l2: 0.000252447\n",
      "[200]\ttraining's l2: 0.000254605\tvalid_1's l2: 0.000252445\n",
      "[201]\ttraining's l2: 0.000254598\tvalid_1's l2: 0.000252443\n",
      "[202]\ttraining's l2: 0.00025457\tvalid_1's l2: 0.000252455\n",
      "[203]\ttraining's l2: 0.000254565\tvalid_1's l2: 0.00025245\n",
      "[204]\ttraining's l2: 0.000254558\tvalid_1's l2: 0.000252475\n",
      "[205]\ttraining's l2: 0.000254541\tvalid_1's l2: 0.000252436\n",
      "[206]\ttraining's l2: 0.000254516\tvalid_1's l2: 0.000252449\n",
      "[207]\ttraining's l2: 0.00025451\tvalid_1's l2: 0.000252446\n",
      "[208]\ttraining's l2: 0.000254502\tvalid_1's l2: 0.000252445\n",
      "[209]\ttraining's l2: 0.000254488\tvalid_1's l2: 0.000252443\n",
      "[210]\ttraining's l2: 0.00025448\tvalid_1's l2: 0.000252441\n",
      "[211]\ttraining's l2: 0.000254458\tvalid_1's l2: 0.000252455\n",
      "[212]\ttraining's l2: 0.000254453\tvalid_1's l2: 0.000252446\n",
      "[213]\ttraining's l2: 0.000254447\tvalid_1's l2: 0.000252459\n",
      "[214]\ttraining's l2: 0.000254435\tvalid_1's l2: 0.000252443\n",
      "[215]\ttraining's l2: 0.000254429\tvalid_1's l2: 0.000252467\n",
      "[216]\ttraining's l2: 0.000254425\tvalid_1's l2: 0.000252463\n",
      "[217]\ttraining's l2: 0.00025442\tvalid_1's l2: 0.000252462\n",
      "[218]\ttraining's l2: 0.0002544\tvalid_1's l2: 0.000252477\n",
      "[219]\ttraining's l2: 0.000254385\tvalid_1's l2: 0.000252403\n",
      "[220]\ttraining's l2: 0.000254367\tvalid_1's l2: 0.000252405\n",
      "[221]\ttraining's l2: 0.000254361\tvalid_1's l2: 0.000252428\n",
      "[222]\ttraining's l2: 0.000254354\tvalid_1's l2: 0.000252427\n",
      "[223]\ttraining's l2: 0.000254342\tvalid_1's l2: 0.000252426\n",
      "[224]\ttraining's l2: 0.000254336\tvalid_1's l2: 0.000252433\n",
      "[225]\ttraining's l2: 0.000254328\tvalid_1's l2: 0.000252443\n",
      "[226]\ttraining's l2: 0.000254322\tvalid_1's l2: 0.000252437\n",
      "[227]\ttraining's l2: 0.000254312\tvalid_1's l2: 0.000252426\n",
      "[228]\ttraining's l2: 0.000254269\tvalid_1's l2: 0.000252473\n",
      "[229]\ttraining's l2: 0.000254265\tvalid_1's l2: 0.000252465\n",
      "[230]\ttraining's l2: 0.00025426\tvalid_1's l2: 0.000252468\n",
      "[231]\ttraining's l2: 0.000254256\tvalid_1's l2: 0.000252491\n",
      "[232]\ttraining's l2: 0.00025424\tvalid_1's l2: 0.000252494\n",
      "[233]\ttraining's l2: 0.000254229\tvalid_1's l2: 0.00025252\n",
      "[234]\ttraining's l2: 0.000254225\tvalid_1's l2: 0.000252517\n",
      "[235]\ttraining's l2: 0.000254218\tvalid_1's l2: 0.000252516\n",
      "[236]\ttraining's l2: 0.000254207\tvalid_1's l2: 0.00025252\n",
      "[237]\ttraining's l2: 0.000254201\tvalid_1's l2: 0.000252515\n",
      "[238]\ttraining's l2: 0.000254187\tvalid_1's l2: 0.000252531\n",
      "[239]\ttraining's l2: 0.000254183\tvalid_1's l2: 0.000252552\n",
      "[240]\ttraining's l2: 0.000254177\tvalid_1's l2: 0.000252552\n",
      "[241]\ttraining's l2: 0.000254174\tvalid_1's l2: 0.000252545\n",
      "[242]\ttraining's l2: 0.00025416\tvalid_1's l2: 0.000252475\n",
      "[243]\ttraining's l2: 0.000254124\tvalid_1's l2: 0.000252522\n",
      "[244]\ttraining's l2: 0.000254112\tvalid_1's l2: 0.000252527\n",
      "[245]\ttraining's l2: 0.000254107\tvalid_1's l2: 0.000252522\n",
      "[246]\ttraining's l2: 0.000254097\tvalid_1's l2: 0.000252547\n",
      "[247]\ttraining's l2: 0.000254091\tvalid_1's l2: 0.000252547\n",
      "[248]\ttraining's l2: 0.000254087\tvalid_1's l2: 0.00025255\n",
      "[249]\ttraining's l2: 0.000254075\tvalid_1's l2: 0.00025254\n",
      "[250]\ttraining's l2: 0.000254065\tvalid_1's l2: 0.000252546\n",
      "[251]\ttraining's l2: 0.000254062\tvalid_1's l2: 0.000252539\n",
      "[252]\ttraining's l2: 0.000254056\tvalid_1's l2: 0.00025251\n",
      "[253]\ttraining's l2: 0.000254051\tvalid_1's l2: 0.000252512\n",
      "[254]\ttraining's l2: 0.000254047\tvalid_1's l2: 0.000252508\n",
      "[255]\ttraining's l2: 0.000254038\tvalid_1's l2: 0.000252524\n",
      "[256]\ttraining's l2: 0.000254029\tvalid_1's l2: 0.000252549\n",
      "[257]\ttraining's l2: 0.000254023\tvalid_1's l2: 0.000252553\n",
      "[258]\ttraining's l2: 0.000254013\tvalid_1's l2: 0.000252544\n",
      "[259]\ttraining's l2: 0.000253985\tvalid_1's l2: 0.00025259\n",
      "[260]\ttraining's l2: 0.000253976\tvalid_1's l2: 0.000252614\n",
      "[261]\ttraining's l2: 0.000253971\tvalid_1's l2: 0.000252588\n",
      "[262]\ttraining's l2: 0.000253968\tvalid_1's l2: 0.000252582\n",
      "[263]\ttraining's l2: 0.000253964\tvalid_1's l2: 0.000252602\n",
      "[264]\ttraining's l2: 0.000253957\tvalid_1's l2: 0.000252625\n",
      "[265]\ttraining's l2: 0.000253952\tvalid_1's l2: 0.000252599\n",
      "[266]\ttraining's l2: 0.000253945\tvalid_1's l2: 0.000252606\n",
      "[267]\ttraining's l2: 0.000253938\tvalid_1's l2: 0.000252628\n",
      "[268]\ttraining's l2: 0.000253933\tvalid_1's l2: 0.000252635\n",
      "[269]\ttraining's l2: 0.000253928\tvalid_1's l2: 0.000252639\n",
      "[270]\ttraining's l2: 0.000253923\tvalid_1's l2: 0.000252641\n",
      "[271]\ttraining's l2: 0.000253919\tvalid_1's l2: 0.000252637\n",
      "[272]\ttraining's l2: 0.000253913\tvalid_1's l2: 0.000252629\n",
      "[273]\ttraining's l2: 0.000253907\tvalid_1's l2: 0.000252636\n",
      "[274]\ttraining's l2: 0.000253901\tvalid_1's l2: 0.000252657\n",
      "[275]\ttraining's l2: 0.000253896\tvalid_1's l2: 0.000252658\n",
      "[276]\ttraining's l2: 0.000253892\tvalid_1's l2: 0.000252635\n",
      "[277]\ttraining's l2: 0.000253886\tvalid_1's l2: 0.000252659\n"
     ]
    },
    {
     "name": "stdout",
     "output_type": "stream",
     "text": [
      "[278]\ttraining's l2: 0.000253884\tvalid_1's l2: 0.000252653\n",
      "[279]\ttraining's l2: 0.000253879\tvalid_1's l2: 0.000252629\n",
      "[280]\ttraining's l2: 0.000253874\tvalid_1's l2: 0.000252631\n",
      "[281]\ttraining's l2: 0.000253866\tvalid_1's l2: 0.000252636\n",
      "[282]\ttraining's l2: 0.00025386\tvalid_1's l2: 0.000252657\n",
      "[283]\ttraining's l2: 0.000253853\tvalid_1's l2: 0.000252649\n",
      "[284]\ttraining's l2: 0.000253847\tvalid_1's l2: 0.000252672\n",
      "[285]\ttraining's l2: 0.000253844\tvalid_1's l2: 0.000252691\n",
      "[286]\ttraining's l2: 0.000253839\tvalid_1's l2: 0.000252711\n",
      "[287]\ttraining's l2: 0.000253835\tvalid_1's l2: 0.000252715\n",
      "[288]\ttraining's l2: 0.00025381\tvalid_1's l2: 0.00025276\n",
      "[289]\ttraining's l2: 0.000253805\tvalid_1's l2: 0.000252753\n",
      "[290]\ttraining's l2: 0.000253801\tvalid_1's l2: 0.000252772\n",
      "[291]\ttraining's l2: 0.000253796\tvalid_1's l2: 0.000252773\n",
      "[292]\ttraining's l2: 0.000253791\tvalid_1's l2: 0.000252743\n",
      "[293]\ttraining's l2: 0.000253785\tvalid_1's l2: 0.000252703\n",
      "[294]\ttraining's l2: 0.000253781\tvalid_1's l2: 0.000252682\n",
      "[295]\ttraining's l2: 0.000253778\tvalid_1's l2: 0.000252684\n",
      "[296]\ttraining's l2: 0.000253776\tvalid_1's l2: 0.000252682\n",
      "[297]\ttraining's l2: 0.000253771\tvalid_1's l2: 0.000252704\n",
      "[298]\ttraining's l2: 0.000253767\tvalid_1's l2: 0.000252701\n",
      "[299]\ttraining's l2: 0.00025376\tvalid_1's l2: 0.000252706\n",
      "[300]\ttraining's l2: 0.000253756\tvalid_1's l2: 0.000252724\n",
      "[301]\ttraining's l2: 0.000253749\tvalid_1's l2: 0.000252717\n",
      "[302]\ttraining's l2: 0.000253744\tvalid_1's l2: 0.000252725\n",
      "[303]\ttraining's l2: 0.00025374\tvalid_1's l2: 0.000252719\n",
      "[304]\ttraining's l2: 0.000253718\tvalid_1's l2: 0.000252763\n",
      "[305]\ttraining's l2: 0.000253712\tvalid_1's l2: 0.000252772\n",
      "[306]\ttraining's l2: 0.00025371\tvalid_1's l2: 0.00025277\n",
      "[307]\ttraining's l2: 0.000253704\tvalid_1's l2: 0.000252768\n",
      "[308]\ttraining's l2: 0.0002537\tvalid_1's l2: 0.000252769\n",
      "[309]\ttraining's l2: 0.000253696\tvalid_1's l2: 0.000252764\n",
      "[310]\ttraining's l2: 0.000253694\tvalid_1's l2: 0.000252781\n",
      "[311]\ttraining's l2: 0.000253688\tvalid_1's l2: 0.000252754\n",
      "[312]\ttraining's l2: 0.000253682\tvalid_1's l2: 0.000252752\n",
      "[313]\ttraining's l2: 0.00025368\tvalid_1's l2: 0.000252748\n",
      "[314]\ttraining's l2: 0.000253674\tvalid_1's l2: 0.000252723\n",
      "[315]\ttraining's l2: 0.000253669\tvalid_1's l2: 0.000252744\n",
      "[316]\ttraining's l2: 0.000253666\tvalid_1's l2: 0.000252741\n",
      "[317]\ttraining's l2: 0.000253659\tvalid_1's l2: 0.000252746\n",
      "[318]\ttraining's l2: 0.000253656\tvalid_1's l2: 0.000252764\n",
      "[319]\ttraining's l2: 0.000253653\tvalid_1's l2: 0.00025278\n",
      "[320]\ttraining's l2: 0.00025365\tvalid_1's l2: 0.00025276\n",
      "[321]\ttraining's l2: 0.000253647\tvalid_1's l2: 0.000252761\n",
      "[322]\ttraining's l2: 0.000253642\tvalid_1's l2: 0.000252759\n",
      "[323]\ttraining's l2: 0.000253636\tvalid_1's l2: 0.000252723\n",
      "[324]\ttraining's l2: 0.000253632\tvalid_1's l2: 0.000252703\n",
      "[325]\ttraining's l2: 0.000253627\tvalid_1's l2: 0.000252702\n",
      "[326]\ttraining's l2: 0.000253623\tvalid_1's l2: 0.000252701\n",
      "[327]\ttraining's l2: 0.000253619\tvalid_1's l2: 0.000252699\n",
      "[328]\ttraining's l2: 0.000253616\tvalid_1's l2: 0.000252668\n",
      "[329]\ttraining's l2: 0.000253598\tvalid_1's l2: 0.00025271\n",
      "[330]\ttraining's l2: 0.000253592\tvalid_1's l2: 0.000252715\n",
      "[331]\ttraining's l2: 0.000253589\tvalid_1's l2: 0.000252731\n",
      "[332]\ttraining's l2: 0.000253585\tvalid_1's l2: 0.000252731\n",
      "[333]\ttraining's l2: 0.000253583\tvalid_1's l2: 0.000252728\n",
      "[334]\ttraining's l2: 0.00025358\tvalid_1's l2: 0.000252739\n",
      "[335]\ttraining's l2: 0.000253577\tvalid_1's l2: 0.000252709\n",
      "[336]\ttraining's l2: 0.000253574\tvalid_1's l2: 0.000252713\n",
      "[337]\ttraining's l2: 0.000253569\tvalid_1's l2: 0.000252721\n",
      "[338]\ttraining's l2: 0.000253564\tvalid_1's l2: 0.00025273\n",
      "[339]\ttraining's l2: 0.000253561\tvalid_1's l2: 0.000252725\n",
      "[340]\ttraining's l2: 0.000253557\tvalid_1's l2: 0.000252734\n",
      "[341]\ttraining's l2: 0.000253553\tvalid_1's l2: 0.000252733\n",
      "[342]\ttraining's l2: 0.00025355\tvalid_1's l2: 0.000252732\n",
      "[343]\ttraining's l2: 0.000253546\tvalid_1's l2: 0.000252753\n",
      "[344]\ttraining's l2: 0.000253544\tvalid_1's l2: 0.000252768\n",
      "[345]\ttraining's l2: 0.00025354\tvalid_1's l2: 0.000252779\n",
      "[346]\ttraining's l2: 0.000253538\tvalid_1's l2: 0.000252795\n",
      "[347]\ttraining's l2: 0.000253536\tvalid_1's l2: 0.000252793\n",
      "[348]\ttraining's l2: 0.000253533\tvalid_1's l2: 0.000252797\n",
      "[349]\ttraining's l2: 0.000253529\tvalid_1's l2: 0.000252794\n",
      "[350]\ttraining's l2: 0.000253513\tvalid_1's l2: 0.000252835\n",
      "[351]\ttraining's l2: 0.000253508\tvalid_1's l2: 0.00025284\n",
      "[352]\ttraining's l2: 0.000253505\tvalid_1's l2: 0.000252843\n",
      "[353]\ttraining's l2: 0.000253502\tvalid_1's l2: 0.000252814\n",
      "[354]\ttraining's l2: 0.000253491\tvalid_1's l2: 0.000252797\n",
      "[355]\ttraining's l2: 0.00025349\tvalid_1's l2: 0.00025281\n",
      "[356]\ttraining's l2: 0.000253487\tvalid_1's l2: 0.00025281\n",
      "[357]\ttraining's l2: 0.000253484\tvalid_1's l2: 0.000252821\n",
      "[358]\ttraining's l2: 0.000253481\tvalid_1's l2: 0.000252811\n",
      "[359]\ttraining's l2: 0.000253478\tvalid_1's l2: 0.000252822\n",
      "[360]\ttraining's l2: 0.000253475\tvalid_1's l2: 0.000252812\n",
      "[361]\ttraining's l2: 0.000253473\tvalid_1's l2: 0.000252816\n",
      "[362]\ttraining's l2: 0.00025347\tvalid_1's l2: 0.000252815\n",
      "[363]\ttraining's l2: 0.000253464\tvalid_1's l2: 0.000252791\n",
      "[364]\ttraining's l2: 0.000253462\tvalid_1's l2: 0.000252791\n",
      "[365]\ttraining's l2: 0.000253452\tvalid_1's l2: 0.000252775\n",
      "[366]\ttraining's l2: 0.000253439\tvalid_1's l2: 0.000252776\n",
      "[367]\ttraining's l2: 0.000253437\tvalid_1's l2: 0.000252775\n",
      "[368]\ttraining's l2: 0.000253435\tvalid_1's l2: 0.00025279\n",
      "[369]\ttraining's l2: 0.000253432\tvalid_1's l2: 0.000252786\n",
      "[370]\ttraining's l2: 0.000253429\tvalid_1's l2: 0.00025279\n",
      "[371]\ttraining's l2: 0.000253427\tvalid_1's l2: 0.000252789\n",
      "[372]\ttraining's l2: 0.000253424\tvalid_1's l2: 0.000252799\n",
      "[373]\ttraining's l2: 0.000253422\tvalid_1's l2: 0.00025279\n",
      "[374]\ttraining's l2: 0.000253407\tvalid_1's l2: 0.000252829\n",
      "[375]\ttraining's l2: 0.000253406\tvalid_1's l2: 0.000252827\n",
      "[376]\ttraining's l2: 0.000253403\tvalid_1's l2: 0.000252831\n",
      "[377]\ttraining's l2: 0.000253396\tvalid_1's l2: 0.000252823\n",
      "[378]\ttraining's l2: 0.000253385\tvalid_1's l2: 0.000252825\n",
      "[379]\ttraining's l2: 0.000253382\tvalid_1's l2: 0.000252823\n",
      "[380]\ttraining's l2: 0.00025338\tvalid_1's l2: 0.00025284\n",
      "[381]\ttraining's l2: 0.000253377\tvalid_1's l2: 0.000252833\n",
      "[382]\ttraining's l2: 0.000253374\tvalid_1's l2: 0.000252858\n",
      "[383]\ttraining's l2: 0.000253369\tvalid_1's l2: 0.000252835\n",
      "[384]\ttraining's l2: 0.000253367\tvalid_1's l2: 0.000252838\n",
      "[385]\ttraining's l2: 0.000253363\tvalid_1's l2: 0.000252847\n",
      "[386]\ttraining's l2: 0.00025336\tvalid_1's l2: 0.000252846\n",
      "[387]\ttraining's l2: 0.000253347\tvalid_1's l2: 0.000252839\n",
      "[388]\ttraining's l2: 0.000253341\tvalid_1's l2: 0.000252831\n",
      "[389]\ttraining's l2: 0.000253338\tvalid_1's l2: 0.000252842\n",
      "[390]\ttraining's l2: 0.000253332\tvalid_1's l2: 0.000252835\n",
      "[391]\ttraining's l2: 0.000253322\tvalid_1's l2: 0.000252837\n",
      "[392]\ttraining's l2: 0.000253319\tvalid_1's l2: 0.000252854\n",
      "[393]\ttraining's l2: 0.000253318\tvalid_1's l2: 0.00025285\n",
      "[394]\ttraining's l2: 0.000253316\tvalid_1's l2: 0.000252865\n",
      "[395]\ttraining's l2: 0.000253313\tvalid_1's l2: 0.000252866\n",
      "[396]\ttraining's l2: 0.000253311\tvalid_1's l2: 0.000252863\n",
      "[397]\ttraining's l2: 0.000253308\tvalid_1's l2: 0.000252888\n",
      "[398]\ttraining's l2: 0.000253303\tvalid_1's l2: 0.000252854\n",
      "[399]\ttraining's l2: 0.000253301\tvalid_1's l2: 0.000252847\n",
      "[400]\ttraining's l2: 0.000253298\tvalid_1's l2: 0.000252863\n",
      "[401]\ttraining's l2: 0.000253296\tvalid_1's l2: 0.000252888\n",
      "[402]\ttraining's l2: 0.000253291\tvalid_1's l2: 0.000252866\n",
      "[403]\ttraining's l2: 0.000253289\tvalid_1's l2: 0.000252866\n",
      "[404]\ttraining's l2: 0.000253285\tvalid_1's l2: 0.000252835\n",
      "[405]\ttraining's l2: 0.000253282\tvalid_1's l2: 0.000252845\n",
      "[406]\ttraining's l2: 0.00025328\tvalid_1's l2: 0.000252817\n",
      "[407]\ttraining's l2: 0.000253275\tvalid_1's l2: 0.000252838\n",
      "[408]\ttraining's l2: 0.000253272\tvalid_1's l2: 0.000252835\n",
      "[409]\ttraining's l2: 0.00025327\tvalid_1's l2: 0.000252839\n",
      "[410]\ttraining's l2: 0.000253267\tvalid_1's l2: 0.000252838\n",
      "[411]\ttraining's l2: 0.00025326\tvalid_1's l2: 0.000252825\n",
      "[412]\ttraining's l2: 0.000253256\tvalid_1's l2: 0.000252819\n",
      "[413]\ttraining's l2: 0.000253247\tvalid_1's l2: 0.000252821\n",
      "[414]\ttraining's l2: 0.000253245\tvalid_1's l2: 0.00025282\n",
      "[415]\ttraining's l2: 0.000253242\tvalid_1's l2: 0.000252819\n",
      "[416]\ttraining's l2: 0.00025324\tvalid_1's l2: 0.000252815\n",
      "[417]\ttraining's l2: 0.000253228\tvalid_1's l2: 0.000252809\n",
      "[418]\ttraining's l2: 0.000253217\tvalid_1's l2: 0.00025278\n",
      "[419]\ttraining's l2: 0.000253214\tvalid_1's l2: 0.00025279\n",
      "[420]\ttraining's l2: 0.00025321\tvalid_1's l2: 0.00025281\n",
      "[421]\ttraining's l2: 0.000253205\tvalid_1's l2: 0.000252803\n",
      "[422]\ttraining's l2: 0.000253191\tvalid_1's l2: 0.000252841\n",
      "[423]\ttraining's l2: 0.000253189\tvalid_1's l2: 0.000252845\n",
      "[424]\ttraining's l2: 0.000253186\tvalid_1's l2: 0.000252862\n",
      "[425]\ttraining's l2: 0.000253183\tvalid_1's l2: 0.000252887\n",
      "[426]\ttraining's l2: 0.000253179\tvalid_1's l2: 0.000252867\n",
      "[427]\ttraining's l2: 0.000253178\tvalid_1's l2: 0.000252869\n",
      "[428]\ttraining's l2: 0.000253175\tvalid_1's l2: 0.000252893\n",
      "[429]\ttraining's l2: 0.000253173\tvalid_1's l2: 0.000252909\n",
      "[430]\ttraining's l2: 0.000253162\tvalid_1's l2: 0.000252882\n",
      "[431]\ttraining's l2: 0.000253158\tvalid_1's l2: 0.000252901\n",
      "[432]\ttraining's l2: 0.000253157\tvalid_1's l2: 0.000252913\n",
      "[433]\ttraining's l2: 0.000253154\tvalid_1's l2: 0.000252906\n",
      "[434]\ttraining's l2: 0.000253152\tvalid_1's l2: 0.000252922\n",
      "[435]\ttraining's l2: 0.000253148\tvalid_1's l2: 0.000252904\n",
      "[436]\ttraining's l2: 0.000253146\tvalid_1's l2: 0.000252928\n",
      "[437]\ttraining's l2: 0.000253142\tvalid_1's l2: 0.000252922\n",
      "[438]\ttraining's l2: 0.000253134\tvalid_1's l2: 0.000252924\n",
      "[439]\ttraining's l2: 0.000253132\tvalid_1's l2: 0.000252923\n",
      "[440]\ttraining's l2: 0.000253129\tvalid_1's l2: 0.000252925\n",
      "[441]\ttraining's l2: 0.000253125\tvalid_1's l2: 0.000252923\n",
      "[442]\ttraining's l2: 0.000253115\tvalid_1's l2: 0.000252918\n",
      "[443]\ttraining's l2: 0.000253104\tvalid_1's l2: 0.000252893\n",
      "[444]\ttraining's l2: 0.000253102\tvalid_1's l2: 0.000252903\n",
      "[445]\ttraining's l2: 0.000253098\tvalid_1's l2: 0.000252932\n",
      "[446]\ttraining's l2: 0.000253096\tvalid_1's l2: 0.000252934\n",
      "[447]\ttraining's l2: 0.000253094\tvalid_1's l2: 0.000252938\n",
      "[448]\ttraining's l2: 0.000253092\tvalid_1's l2: 0.000252954\n",
      "[449]\ttraining's l2: 0.000253082\tvalid_1's l2: 0.000252929\n",
      "[450]\ttraining's l2: 0.000253078\tvalid_1's l2: 0.000252958\n",
      "[451]\ttraining's l2: 0.000253076\tvalid_1's l2: 0.000252933\n",
      "[452]\ttraining's l2: 0.000253073\tvalid_1's l2: 0.000252957\n",
      "[453]\ttraining's l2: 0.00025307\tvalid_1's l2: 0.000252929\n",
      "[454]\ttraining's l2: 0.000253068\tvalid_1's l2: 0.000252953\n",
      "[455]\ttraining's l2: 0.000253065\tvalid_1's l2: 0.000252962\n",
      "[456]\ttraining's l2: 0.000253063\tvalid_1's l2: 0.000252954\n",
      "[457]\ttraining's l2: 0.000253061\tvalid_1's l2: 0.000252958\n",
      "[458]\ttraining's l2: 0.000253059\tvalid_1's l2: 0.000252974\n",
      "[459]\ttraining's l2: 0.000253052\tvalid_1's l2: 0.000252978\n",
      "[460]\ttraining's l2: 0.00025305\tvalid_1's l2: 0.000252979\n",
      "[461]\ttraining's l2: 0.000253047\tvalid_1's l2: 0.000252983\n",
      "[462]\ttraining's l2: 0.000253044\tvalid_1's l2: 0.000252982\n",
      "[463]\ttraining's l2: 0.000253041\tvalid_1's l2: 0.000252956\n",
      "[464]\ttraining's l2: 0.000253039\tvalid_1's l2: 0.000252979\n",
      "[465]\ttraining's l2: 0.000253035\tvalid_1's l2: 0.000252978\n",
      "[466]\ttraining's l2: 0.000253026\tvalid_1's l2: 0.000252973\n",
      "[467]\ttraining's l2: 0.000253016\tvalid_1's l2: 0.000252949\n",
      "[468]\ttraining's l2: 0.000253014\tvalid_1's l2: 0.000252959\n",
      "[469]\ttraining's l2: 0.00025301\tvalid_1's l2: 0.000252984\n",
      "[470]\ttraining's l2: 0.000253001\tvalid_1's l2: 0.000252961\n",
      "[471]\ttraining's l2: 0.000252997\tvalid_1's l2: 0.00025299\n",
      "[472]\ttraining's l2: 0.000252996\tvalid_1's l2: 0.000252987\n",
      "[473]\ttraining's l2: 0.000252994\tvalid_1's l2: 0.000253003\n",
      "[474]\ttraining's l2: 0.000252992\tvalid_1's l2: 0.000253026\n",
      "[475]\ttraining's l2: 0.000252989\tvalid_1's l2: 0.000253008\n",
      "[476]\ttraining's l2: 0.000252985\tvalid_1's l2: 0.000253033\n",
      "[477]\ttraining's l2: 0.000252983\tvalid_1's l2: 0.000253024\n",
      "[478]\ttraining's l2: 0.000252981\tvalid_1's l2: 0.000253018\n",
      "[479]\ttraining's l2: 0.000252975\tvalid_1's l2: 0.000253022\n",
      "[480]\ttraining's l2: 0.000252973\tvalid_1's l2: 0.000253032\n",
      "[481]\ttraining's l2: 0.000252971\tvalid_1's l2: 0.000253047\n",
      "[482]\ttraining's l2: 0.00025297\tvalid_1's l2: 0.000253044\n",
      "[483]\ttraining's l2: 0.00025296\tvalid_1's l2: 0.00025304\n",
      "[484]\ttraining's l2: 0.000252952\tvalid_1's l2: 0.000253017\n",
      "[485]\ttraining's l2: 0.000252944\tvalid_1's l2: 0.000252975\n",
      "[486]\ttraining's l2: 0.00025294\tvalid_1's l2: 0.000253004\n",
      "[487]\ttraining's l2: 0.000252936\tvalid_1's l2: 0.000253032\n",
      "[488]\ttraining's l2: 0.000252934\tvalid_1's l2: 0.000253015\n",
      "[489]\ttraining's l2: 0.000252931\tvalid_1's l2: 0.000253011\n",
      "[490]\ttraining's l2: 0.000252929\tvalid_1's l2: 0.000253015\n",
      "[491]\ttraining's l2: 0.000252927\tvalid_1's l2: 0.000253031\n",
      "[492]\ttraining's l2: 0.000252925\tvalid_1's l2: 0.000253033\n",
      "[493]\ttraining's l2: 0.000252923\tvalid_1's l2: 0.000253017\n",
      "[494]\ttraining's l2: 0.00025292\tvalid_1's l2: 0.000253\n",
      "[495]\ttraining's l2: 0.000252913\tvalid_1's l2: 0.000252959\n",
      "[496]\ttraining's l2: 0.000252901\tvalid_1's l2: 0.000252996\n",
      "[497]\ttraining's l2: 0.000252898\tvalid_1's l2: 0.00025302\n",
      "[498]\ttraining's l2: 0.000252891\tvalid_1's l2: 0.000253022\n",
      "[499]\ttraining's l2: 0.000252889\tvalid_1's l2: 0.000253021\n",
      "[500]\ttraining's l2: 0.000252887\tvalid_1's l2: 0.000253031\n"
     ]
    }
   ],
   "source": [
    "X_train, X_test, y_train, y_test = train_test_split(X, y, test_size=.2, random_state=0)\n",
    "best_params = {'learning_rate': 0.05, 'n_estimators': 500, 'num_leaves': 3}\n",
    "\n",
    "lgbr = LGBModel(best_params)\n",
    "lgbr.fit(X_train, y_train, X_test, y_test)"
   ]
  },
  {
   "cell_type": "code",
   "execution_count": 5,
   "id": "6ce53412",
   "metadata": {},
   "outputs": [
    {
     "data": {
      "text/plain": [
       "<AxesSubplot:title={'center':'Metric during training'}, xlabel='Iterations', ylabel='l2'>"
      ]
     },
     "execution_count": 5,
     "metadata": {},
     "output_type": "execute_result"
    },
    {
     "data": {
      "image/png": "[encoded data removed]",
      "text/plain": [
       "<Figure size 432x288 with 1 Axes>"
      ]
     },
     "metadata": {
      "needs_background": "light"
     },
     "output_type": "display_data"
    }
   ],
   "source": [
    "lgbr.plot_metric()"
   ]
  },
  {
   "cell_type": "code",
   "execution_count": 6,
   "id": "778e5682",
   "metadata": {},
   "outputs": [
    {
     "data": {
      "text/plain": [
       "<AxesSubplot:title={'center':'Feature importance'}, xlabel='Feature importance', ylabel='Features'>"
      ]
     },
     "execution_count": 6,
     "metadata": {},
     "output_type": "execute_result"
    },
    {
     "data": {
      "image/png": "[encoded data removed]",
      "text/plain": [
       "<Figure size 432x288 with 1 Axes>"
      ]
     },
     "metadata": {
      "needs_background": "light"
     },
     "output_type": "display_data"
    }
   ],
   "source": [
    "lgbr.plot_importance()"
   ]
  },
  {
   "cell_type": "code",
   "execution_count": 7,
   "id": "0f60f1c7",
   "metadata": {},
   "outputs": [],
   "source": [
    "from models.mlp_model import MLPModel"
   ]
  },
  {
   "cell_type": "code",
   "execution_count": null,
   "id": "dc1a5224",
   "metadata": {},
   "outputs": [
    {
     "name": "stdout",
     "output_type": "stream",
     "text": [
      "Epoch 1/50\n"
     ]
    },
    {
     "name": "stderr",
     "output_type": "stream",
     "text": [
      "100%|███████████████████████████████████████████████████████████████████████████████████████████████████████████████████████████████████████████████████████| 448/448 [00:00<00:00, 542.54it/s, train_loss=0.133]\n",
      "100%|███████████████████████████████████████████████████████████████████████████████████████████████████████████████████████████████████████████████████████| 112/112 [00:00<00:00, 750.46it/s, eval_loss=0.0124]\n"
     ]
    },
    {
     "name": "stdout",
     "output_type": "stream",
     "text": [
      "Epoch 2/50\n"
     ]
    },
    {
     "name": "stderr",
     "output_type": "stream",
     "text": [
      "100%|█████████████████████████████████████████████████████████████████████████████████████████████████████████████████████████████████████████████████████| 448/448 [00:00<00:00, 572.04it/s, train_loss=0.00292]\n",
      "100%|█████████████████████████████████████████████████████████████████████████████████████████████████████████████████████████████████████████████████████| 112/112 [00:00<00:00, 750.17it/s, eval_loss=0.000342]\n"
     ]
    },
    {
     "name": "stdout",
     "output_type": "stream",
     "text": [
      "Epoch 3/50\n"
     ]
    },
    {
     "name": "stderr",
     "output_type": "stream",
     "text": [
      "100%|████████████████████████████████████████████████████████████████████████████████████████████████████████████████████████████████████████████████████| 448/448 [00:00<00:00, 582.79it/s, train_loss=0.000295]\n",
      "100%|█████████████████████████████████████████████████████████████████████████████████████████████████████████████████████████████████████████████████████| 112/112 [00:00<00:00, 745.40it/s, eval_loss=0.000278]\n"
     ]
    },
    {
     "name": "stdout",
     "output_type": "stream",
     "text": [
      "Epoch 4/50\n"
     ]
    },
    {
     "name": "stderr",
     "output_type": "stream",
     "text": [
      "100%|████████████████████████████████████████████████████████████████████████████████████████████████████████████████████████████████████████████████████| 448/448 [00:00<00:00, 548.99it/s, train_loss=0.000283]\n",
      "100%|█████████████████████████████████████████████████████████████████████████████████████████████████████████████████████████████████████████████████████| 112/112 [00:00<00:00, 711.27it/s, eval_loss=0.000275]\n"
     ]
    },
    {
     "name": "stdout",
     "output_type": "stream",
     "text": [
      "Epoch 5/50\n"
     ]
    },
    {
     "name": "stderr",
     "output_type": "stream",
     "text": [
      "100%|█████████████████████████████████████████████████████████████████████████████████████████████████████████████████████████████████████████████████████| 448/448 [00:00<00:00, 578.22it/s, train_loss=0.00028]\n",
      "100%|█████████████████████████████████████████████████████████████████████████████████████████████████████████████████████████████████████████████████████| 112/112 [00:00<00:00, 738.87it/s, eval_loss=0.000272]\n"
     ]
    },
    {
     "name": "stdout",
     "output_type": "stream",
     "text": [
      "Epoch 6/50\n"
     ]
    },
    {
     "name": "stderr",
     "output_type": "stream",
     "text": [
      "100%|████████████████████████████████████████████████████████████████████████████████████████████████████████████████████████████████████████████████████| 448/448 [00:00<00:00, 546.77it/s, train_loss=0.000277]\n",
      "100%|█████████████████████████████████████████████████████████████████████████████████████████████████████████████████████████████████████████████████████| 112/112 [00:00<00:00, 738.33it/s, eval_loss=0.000269]\n"
     ]
    },
    {
     "name": "stdout",
     "output_type": "stream",
     "text": [
      "Epoch 7/50\n"
     ]
    },
    {
     "name": "stderr",
     "output_type": "stream",
     "text": [
      "100%|████████████████████████████████████████████████████████████████████████████████████████████████████████████████████████████████████████████████████| 448/448 [00:00<00:00, 572.55it/s, train_loss=0.000274]\n",
      "100%|█████████████████████████████████████████████████████████████████████████████████████████████████████████████████████████████████████████████████████| 112/112 [00:00<00:00, 734.03it/s, eval_loss=0.000265]\n"
     ]
    },
    {
     "name": "stdout",
     "output_type": "stream",
     "text": [
      "Epoch 8/50\n"
     ]
    },
    {
     "name": "stderr",
     "output_type": "stream",
     "text": [
      "100%|████████████████████████████████████████████████████████████████████████████████████████████████████████████████████████████████████████████████████| 448/448 [00:00<00:00, 540.92it/s, train_loss=0.000271]\n",
      "100%|█████████████████████████████████████████████████████████████████████████████████████████████████████████████████████████████████████████████████████| 112/112 [00:00<00:00, 658.43it/s, eval_loss=0.000262]\n"
     ]
    },
    {
     "name": "stdout",
     "output_type": "stream",
     "text": [
      "Epoch 9/50\n"
     ]
    },
    {
     "name": "stderr",
     "output_type": "stream",
     "text": [
      "100%|████████████████████████████████████████████████████████████████████████████████████████████████████████████████████████████████████████████████████| 448/448 [00:00<00:00, 542.85it/s, train_loss=0.000268]\n",
      "100%|██████████████████████████████████████████████████████████████████████████████████████████████████████████████████████████████████████████████████████| 112/112 [00:00<00:00, 705.08it/s, eval_loss=0.00026]\n"
     ]
    },
    {
     "name": "stdout",
     "output_type": "stream",
     "text": [
      "Epoch 10/50\n"
     ]
    },
    {
     "name": "stderr",
     "output_type": "stream",
     "text": [
      "100%|████████████████████████████████████████████████████████████████████████████████████████████████████████████████████████████████████████████████████| 448/448 [00:00<00:00, 548.07it/s, train_loss=0.000265]\n",
      "100%|█████████████████████████████████████████████████████████████████████████████████████████████████████████████████████████████████████████████████████| 112/112 [00:00<00:00, 724.09it/s, eval_loss=0.000257]\n"
     ]
    },
    {
     "name": "stdout",
     "output_type": "stream",
     "text": [
      "Epoch 11/50\n"
     ]
    },
    {
     "name": "stderr",
     "output_type": "stream",
     "text": [
      "100%|████████████████████████████████████████████████████████████████████████████████████████████████████████████████████████████████████████████████████| 448/448 [00:00<00:00, 547.80it/s, train_loss=0.000263]\n",
      "100%|█████████████████████████████████████████████████████████████████████████████████████████████████████████████████████████████████████████████████████| 112/112 [00:00<00:00, 656.53it/s, eval_loss=0.000256]\n"
     ]
    },
    {
     "name": "stdout",
     "output_type": "stream",
     "text": [
      "Epoch 12/50\n"
     ]
    },
    {
     "name": "stderr",
     "output_type": "stream",
     "text": [
      "100%|████████████████████████████████████████████████████████████████████████████████████████████████████████████████████████████████████████████████████| 448/448 [00:00<00:00, 548.55it/s, train_loss=0.000261]\n",
      "100%|█████████████████████████████████████████████████████████████████████████████████████████████████████████████████████████████████████████████████████| 112/112 [00:00<00:00, 739.61it/s, eval_loss=0.000254]\n"
     ]
    },
    {
     "name": "stdout",
     "output_type": "stream",
     "text": [
      "Epoch 13/50\n"
     ]
    },
    {
     "name": "stderr",
     "output_type": "stream",
     "text": [
      "100%|█████████████████████████████████████████████████████████████████████████████████████████████████████████████████████████████████████████████████████| 448/448 [00:00<00:00, 573.55it/s, train_loss=0.00026]\n",
      "100%|█████████████████████████████████████████████████████████████████████████████████████████████████████████████████████████████████████████████████████| 112/112 [00:00<00:00, 694.97it/s, eval_loss=0.000253]\n"
     ]
    },
    {
     "name": "stdout",
     "output_type": "stream",
     "text": [
      "Epoch 14/50\n"
     ]
    },
    {
     "name": "stderr",
     "output_type": "stream",
     "text": [
      "100%|████████████████████████████████████████████████████████████████████████████████████████████████████████████████████████████████████████████████████| 448/448 [00:00<00:00, 549.20it/s, train_loss=0.000259]\n",
      "100%|█████████████████████████████████████████████████████████████████████████████████████████████████████████████████████████████████████████████████████| 112/112 [00:00<00:00, 716.83it/s, eval_loss=0.000252]\n"
     ]
    },
    {
     "name": "stdout",
     "output_type": "stream",
     "text": [
      "Epoch 15/50\n"
     ]
    },
    {
     "name": "stderr",
     "output_type": "stream",
     "text": [
      "100%|████████████████████████████████████████████████████████████████████████████████████████████████████████████████████████████████████████████████████| 448/448 [00:00<00:00, 568.98it/s, train_loss=0.000259]\n",
      "100%|█████████████████████████████████████████████████████████████████████████████████████████████████████████████████████████████████████████████████████| 112/112 [00:00<00:00, 746.32it/s, eval_loss=0.000251]\n"
     ]
    },
    {
     "name": "stdout",
     "output_type": "stream",
     "text": [
      "Epoch 16/50\n"
     ]
    },
    {
     "name": "stderr",
     "output_type": "stream",
     "text": [
      "100%|████████████████████████████████████████████████████████████████████████████████████████████████████████████████████████████████████████████████████| 448/448 [00:00<00:00, 582.47it/s, train_loss=0.000258]\n",
      "100%|█████████████████████████████████████████████████████████████████████████████████████████████████████████████████████████████████████████████████████| 112/112 [00:00<00:00, 727.23it/s, eval_loss=0.000252]\n"
     ]
    },
    {
     "name": "stdout",
     "output_type": "stream",
     "text": [
      "Epoch 17/50\n"
     ]
    },
    {
     "name": "stderr",
     "output_type": "stream",
     "text": [
      "100%|████████████████████████████████████████████████████████████████████████████████████████████████████████████████████████████████████████████████████| 448/448 [00:00<00:00, 583.50it/s, train_loss=0.000258]\n",
      "100%|█████████████████████████████████████████████████████████████████████████████████████████████████████████████████████████████████████████████████████| 112/112 [00:00<00:00, 756.10it/s, eval_loss=0.000252]\n"
     ]
    },
    {
     "name": "stdout",
     "output_type": "stream",
     "text": [
      "Epoch 18/50\n"
     ]
    },
    {
     "name": "stderr",
     "output_type": "stream",
     "text": [
      "100%|████████████████████████████████████████████████████████████████████████████████████████████████████████████████████████████████████████████████████| 448/448 [00:00<00:00, 545.87it/s, train_loss=0.000258]\n",
      "100%|█████████████████████████████████████████████████████████████████████████████████████████████████████████████████████████████████████████████████████| 112/112 [00:00<00:00, 720.17it/s, eval_loss=0.000253]\n"
     ]
    },
    {
     "name": "stdout",
     "output_type": "stream",
     "text": [
      "Epoch 19/50\n"
     ]
    },
    {
     "name": "stderr",
     "output_type": "stream",
     "text": [
      "100%|████████████████████████████████████████████████████████████████████████████████████████████████████████████████████████████████████████████████████| 448/448 [00:00<00:00, 560.14it/s, train_loss=0.000258]\n",
      "100%|█████████████████████████████████████████████████████████████████████████████████████████████████████████████████████████████████████████████████████| 112/112 [00:00<00:00, 752.18it/s, eval_loss=0.000253]\n"
     ]
    },
    {
     "name": "stdout",
     "output_type": "stream",
     "text": [
      "Epoch 20/50\n"
     ]
    },
    {
     "name": "stderr",
     "output_type": "stream",
     "text": [
      "100%|████████████████████████████████████████████████████████████████████████████████████████████████████████████████████████████████████████████████████| 448/448 [00:00<00:00, 577.49it/s, train_loss=0.000258]\n",
      "100%|█████████████████████████████████████████████████████████████████████████████████████████████████████████████████████████████████████████████████████| 112/112 [00:00<00:00, 721.48it/s, eval_loss=0.000253]\n"
     ]
    },
    {
     "name": "stdout",
     "output_type": "stream",
     "text": [
      "Epoch 21/50\n"
     ]
    },
    {
     "name": "stderr",
     "output_type": "stream",
     "text": [
      "100%|████████████████████████████████████████████████████████████████████████████████████████████████████████████████████████████████████████████████████| 448/448 [00:00<00:00, 567.15it/s, train_loss=0.000258]\n",
      "100%|█████████████████████████████████████████████████████████████████████████████████████████████████████████████████████████████████████████████████████| 112/112 [00:00<00:00, 725.03it/s, eval_loss=0.000252]\n"
     ]
    },
    {
     "name": "stdout",
     "output_type": "stream",
     "text": [
      "Epoch 22/50\n"
     ]
    },
    {
     "name": "stderr",
     "output_type": "stream",
     "text": [
      "100%|████████████████████████████████████████████████████████████████████████████████████████████████████████████████████████████████████████████████████| 448/448 [00:00<00:00, 511.25it/s, train_loss=0.000258]\n",
      "100%|█████████████████████████████████████████████████████████████████████████████████████████████████████████████████████████████████████████████████████| 112/112 [00:00<00:00, 677.95it/s, eval_loss=0.000251]\n"
     ]
    },
    {
     "name": "stdout",
     "output_type": "stream",
     "text": [
      "Epoch 23/50\n"
     ]
    },
    {
     "name": "stderr",
     "output_type": "stream",
     "text": [
      "100%|████████████████████████████████████████████████████████████████████████████████████████████████████████████████████████████████████████████████████| 448/448 [00:00<00:00, 571.58it/s, train_loss=0.000258]\n",
      "100%|█████████████████████████████████████████████████████████████████████████████████████████████████████████████████████████████████████████████████████| 112/112 [00:00<00:00, 752.83it/s, eval_loss=0.000251]\n"
     ]
    },
    {
     "name": "stdout",
     "output_type": "stream",
     "text": [
      "Epoch 24/50\n"
     ]
    },
    {
     "name": "stderr",
     "output_type": "stream",
     "text": [
      "100%|████████████████████████████████████████████████████████████████████████████████████████████████████████████████████████████████████████████████████| 448/448 [00:00<00:00, 548.52it/s, train_loss=0.000259]\n",
      "100%|██████████████████████████████████████████████████████████████████████████████████████████████████████████████████████████████████████████████████████| 112/112 [00:00<00:00, 722.86it/s, eval_loss=0.00025]\n"
     ]
    },
    {
     "name": "stdout",
     "output_type": "stream",
     "text": [
      "Epoch 25/50\n"
     ]
    },
    {
     "name": "stderr",
     "output_type": "stream",
     "text": [
      "100%|████████████████████████████████████████████████████████████████████████████████████████████████████████████████████████████████████████████████████| 448/448 [00:00<00:00, 545.33it/s, train_loss=0.000259]\n",
      "100%|██████████████████████████████████████████████████████████████████████████████████████████████████████████████████████████████████████████████████████| 112/112 [00:00<00:00, 706.94it/s, eval_loss=0.00025]\n"
     ]
    },
    {
     "name": "stdout",
     "output_type": "stream",
     "text": [
      "Epoch 26/50\n"
     ]
    },
    {
     "name": "stderr",
     "output_type": "stream",
     "text": [
      "100%|████████████████████████████████████████████████████████████████████████████████████████████████████████████████████████████████████████████████████| 448/448 [00:00<00:00, 573.29it/s, train_loss=0.000259]\n",
      "100%|██████████████████████████████████████████████████████████████████████████████████████████████████████████████████████████████████████████████████████| 112/112 [00:00<00:00, 730.17it/s, eval_loss=0.00025]\n"
     ]
    },
    {
     "name": "stdout",
     "output_type": "stream",
     "text": [
      "Epoch 27/50\n"
     ]
    },
    {
     "name": "stderr",
     "output_type": "stream",
     "text": [
      "100%|████████████████████████████████████████████████████████████████████████████████████████████████████████████████████████████████████████████████████| 448/448 [00:00<00:00, 538.98it/s, train_loss=0.000259]\n",
      "100%|██████████████████████████████████████████████████████████████████████████████████████████████████████████████████████████████████████████████████████| 112/112 [00:00<00:00, 716.28it/s, eval_loss=0.00025]\n"
     ]
    },
    {
     "name": "stdout",
     "output_type": "stream",
     "text": [
      "Epoch 28/50\n"
     ]
    },
    {
     "name": "stderr",
     "output_type": "stream",
     "text": [
      "100%|████████████████████████████████████████████████████████████████████████████████████████████████████████████████████████████████████████████████████| 448/448 [00:00<00:00, 576.99it/s, train_loss=0.000259]\n",
      "100%|██████████████████████████████████████████████████████████████████████████████████████████████████████████████████████████████████████████████████████| 112/112 [00:00<00:00, 733.36it/s, eval_loss=0.00025]\n"
     ]
    },
    {
     "name": "stdout",
     "output_type": "stream",
     "text": [
      "Epoch 29/50\n"
     ]
    },
    {
     "name": "stderr",
     "output_type": "stream",
     "text": [
      "100%|████████████████████████████████████████████████████████████████████████████████████████████████████████████████████████████████████████████████████| 448/448 [00:00<00:00, 546.95it/s, train_loss=0.000259]\n",
      "100%|██████████████████████████████████████████████████████████████████████████████████████████████████████████████████████████████████████████████████████| 112/112 [00:00<00:00, 737.16it/s, eval_loss=0.00025]\n"
     ]
    },
    {
     "name": "stdout",
     "output_type": "stream",
     "text": [
      "Epoch 30/50\n"
     ]
    },
    {
     "name": "stderr",
     "output_type": "stream",
     "text": [
      "100%|████████████████████████████████████████████████████████████████████████████████████████████████████████████████████████████████████████████████████| 448/448 [00:00<00:00, 568.87it/s, train_loss=0.000259]\n",
      "100%|██████████████████████████████████████████████████████████████████████████████████████████████████████████████████████████████████████████████████████| 112/112 [00:00<00:00, 709.82it/s, eval_loss=0.00025]\n"
     ]
    },
    {
     "name": "stdout",
     "output_type": "stream",
     "text": [
      "Epoch 31/50\n"
     ]
    },
    {
     "name": "stderr",
     "output_type": "stream",
     "text": [
      "100%|████████████████████████████████████████████████████████████████████████████████████████████████████████████████████████████████████████████████████| 448/448 [00:00<00:00, 538.74it/s, train_loss=0.000259]\n",
      "100%|██████████████████████████████████████████████████████████████████████████████████████████████████████████████████████████████████████████████████████| 112/112 [00:00<00:00, 666.49it/s, eval_loss=0.00025]\n"
     ]
    },
    {
     "name": "stdout",
     "output_type": "stream",
     "text": [
      "Epoch 32/50\n"
     ]
    },
    {
     "name": "stderr",
     "output_type": "stream",
     "text": [
      "100%|████████████████████████████████████████████████████████████████████████████████████████████████████████████████████████████████████████████████████| 448/448 [00:00<00:00, 543.81it/s, train_loss=0.000259]\n",
      "100%|██████████████████████████████████████████████████████████████████████████████████████████████████████████████████████████████████████████████████████| 112/112 [00:00<00:00, 712.18it/s, eval_loss=0.00025]\n"
     ]
    },
    {
     "name": "stdout",
     "output_type": "stream",
     "text": [
      "Epoch 33/50\n"
     ]
    },
    {
     "name": "stderr",
     "output_type": "stream",
     "text": [
      "100%|████████████████████████████████████████████████████████████████████████████████████████████████████████████████████████████████████████████████████| 448/448 [00:00<00:00, 564.17it/s, train_loss=0.000259]\n",
      "100%|██████████████████████████████████████████████████████████████████████████████████████████████████████████████████████████████████████████████████████| 112/112 [00:00<00:00, 722.68it/s, eval_loss=0.00025]\n"
     ]
    },
    {
     "name": "stdout",
     "output_type": "stream",
     "text": [
      "Epoch 34/50\n"
     ]
    },
    {
     "name": "stderr",
     "output_type": "stream",
     "text": [
      "100%|████████████████████████████████████████████████████████████████████████████████████████████████████████████████████████████████████████████████████| 448/448 [00:00<00:00, 558.25it/s, train_loss=0.000259]\n",
      "100%|██████████████████████████████████████████████████████████████████████████████████████████████████████████████████████████████████████████████████████| 112/112 [00:00<00:00, 695.88it/s, eval_loss=0.00025]\n"
     ]
    },
    {
     "name": "stdout",
     "output_type": "stream",
     "text": [
      "Epoch 35/50\n"
     ]
    },
    {
     "name": "stderr",
     "output_type": "stream",
     "text": [
      "100%|████████████████████████████████████████████████████████████████████████████████████████████████████████████████████████████████████████████████████| 448/448 [00:00<00:00, 581.02it/s, train_loss=0.000259]\n",
      "100%|██████████████████████████████████████████████████████████████████████████████████████████████████████████████████████████████████████████████████████| 112/112 [00:00<00:00, 733.56it/s, eval_loss=0.00025]\n"
     ]
    },
    {
     "name": "stdout",
     "output_type": "stream",
     "text": [
      "Epoch 36/50\n"
     ]
    },
    {
     "name": "stderr",
     "output_type": "stream",
     "text": [
      "100%|████████████████████████████████████████████████████████████████████████████████████████████████████████████████████████████████████████████████████| 448/448 [00:00<00:00, 520.65it/s, train_loss=0.000259]\n",
      "100%|██████████████████████████████████████████████████████████████████████████████████████████████████████████████████████████████████████████████████████| 112/112 [00:00<00:00, 623.81it/s, eval_loss=0.00025]\n"
     ]
    },
    {
     "name": "stdout",
     "output_type": "stream",
     "text": [
      "Epoch 37/50\n"
     ]
    },
    {
     "name": "stderr",
     "output_type": "stream",
     "text": [
      "100%|████████████████████████████████████████████████████████████████████████████████████████████████████████████████████████████████████████████████████| 448/448 [00:00<00:00, 485.78it/s, train_loss=0.000259]\n",
      "100%|██████████████████████████████████████████████████████████████████████████████████████████████████████████████████████████████████████████████████████| 112/112 [00:00<00:00, 719.74it/s, eval_loss=0.00025]\n"
     ]
    },
    {
     "name": "stdout",
     "output_type": "stream",
     "text": [
      "Epoch 38/50\n"
     ]
    },
    {
     "name": "stderr",
     "output_type": "stream",
     "text": [
      "100%|████████████████████████████████████████████████████████████████████████████████████████████████████████████████████████████████████████████████████| 448/448 [00:00<00:00, 546.44it/s, train_loss=0.000259]\n",
      " 65%|█████████████████████████████████████████████████████████████████████████████████████████████████▊                                                    | 73/112 [00:00<00:00, 727.65it/s, eval_loss=0.000254]"
     ]
    }
   ],
   "source": [
    "mlp = MLPModel(lr=1e-3)\n",
    "mlp.fit(X_train, y_train, X_test, y_test, epochs=50)"
   ]
  },
  {
   "cell_type": "code",
   "execution_count": null,
   "id": "676f6fd2",
   "metadata": {},
   "outputs": [],
   "source": [
    "mlp.plot_metric()"
   ]
  },
  {
   "cell_type": "code",
   "execution_count": null,
   "id": "e12cc389",
   "metadata": {},
   "outputs": [],
   "source": []
  }
 ],
 "metadata": {
  "kernelspec": {
   "display_name": "Python 3 (ipykernel)",
   "language": "python",
   "name": "python3"
  },
  "language_info": {
   "codemirror_mode": {
    "name": "ipython",
    "version": 3
   },
   "file_extension": ".py",
   "mimetype": "text/x-python",
   "name": "python",
   "nbconvert_exporter": "python",
   "pygments_lexer": "ipython3",
   "version": "3.8.10"
  }
 },
 "nbformat": 4,
 "nbformat_minor": 5
}
